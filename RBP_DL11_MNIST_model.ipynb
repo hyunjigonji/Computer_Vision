{
 "cells": [
  {
   "cell_type": "code",
   "execution_count": 24,
   "metadata": {},
   "outputs": [],
   "source": [
    "import tensorflow as tf"
   ]
  },
  {
   "cell_type": "code",
   "execution_count": 25,
   "metadata": {},
   "outputs": [],
   "source": [
    "# define Constants\n",
    "batch_size = 128 \n",
    "num_classes = 10 \n",
    "epochs = 100"
   ]
  },
  {
   "cell_type": "code",
   "execution_count": 26,
   "metadata": {},
   "outputs": [
    {
     "name": "stdout",
     "output_type": "stream",
     "text": [
      "x_train shape:  (60000, 28, 28)\n",
      "60000 train samples\n",
      "10000 test samples\n"
     ]
    }
   ],
   "source": [
    "# load mnist data, split between train and test sets\n",
    "mnist = tf.keras.datasets.mnist\n",
    "(x_train, y_train), (x_test, y_test) = mnist.load_data()\n",
    "x_train, x_test = x_train/255.0, x_test/255.0\n",
    "\n",
    "print('x_train shape: ', x_train.shape)\n",
    "print(x_train.shape[0], 'train samples')\n",
    "print(x_test.shape[0], 'test samples')"
   ]
  },
  {
   "cell_type": "code",
   "execution_count": 27,
   "metadata": {},
   "outputs": [],
   "source": [
    "# convert class vectors to binary class metrices\n",
    "y_train = tf.keras.utils.to_categorical(y_train, num_classes)\n",
    "y_test = tf.keras.utils.to_categorical(y_test, num_classes)"
   ]
  },
  {
   "cell_type": "code",
   "execution_count": 28,
   "metadata": {},
   "outputs": [],
   "source": [
    "# build the tf.keras.Sequential model by stacking layers.\n",
    "# https://www.tensorflow.org/tutorials/quickstart/beginner\n",
    "model = tf.keras.models.Sequential([\n",
    "    tf.keras.layers.Flatten(input_shape=(28,28)),\n",
    "    tf.keras.layers.Dense(128, activation='relu'),\n",
    "    tf.keras.layers.Dropout(0.2),\n",
    "    tf.keras.layers.Dense(num_classes, activation='softmax')\n",
    "])\n",
    "\n",
    "model.compile(optimizer='adam',\n",
    "             loss='categorical_crossentropy',\n",
    "             metrics=['accuracy'])"
   ]
  },
  {
   "cell_type": "code",
   "execution_count": 29,
   "metadata": {},
   "outputs": [],
   "source": [
    "# save the best model as digits_model.h5\n",
    "modelCheckpoint = tf.keras.callbacks.ModelCheckpoint('digits_model.h5', save_best_only=True)"
   ]
  },
  {
   "cell_type": "code",
   "execution_count": 30,
   "metadata": {},
   "outputs": [],
   "source": [
    "# define a callback to monitor val_loss\n",
    "monitor_val_lose = tf.keras.callbacks.EarlyStopping(monitor='val_loss', patience=5)"
   ]
  },
  {
   "cell_type": "code",
   "execution_count": 31,
   "metadata": {},
   "outputs": [
    {
     "name": "stdout",
     "output_type": "stream",
     "text": [
      "Epoch 1/100\n",
      "469/469 [==============================] - 1s 2ms/step - loss: 0.4037 - accuracy: 0.8845 - val_loss: 0.1973 - val_accuracy: 0.9419\n",
      "Epoch 2/100\n",
      "469/469 [==============================] - 1s 1ms/step - loss: 0.1959 - accuracy: 0.9429 - val_loss: 0.1430 - val_accuracy: 0.9580\n",
      "Epoch 3/100\n",
      "469/469 [==============================] - 1s 1ms/step - loss: 0.1475 - accuracy: 0.9568 - val_loss: 0.1134 - val_accuracy: 0.9655\n",
      "Epoch 4/100\n",
      "469/469 [==============================] - 1s 2ms/step - loss: 0.1199 - accuracy: 0.9652 - val_loss: 0.1017 - val_accuracy: 0.9706\n",
      "Epoch 5/100\n",
      "469/469 [==============================] - 1s 1ms/step - loss: 0.1014 - accuracy: 0.9697 - val_loss: 0.0915 - val_accuracy: 0.9723\n",
      "Epoch 6/100\n",
      "469/469 [==============================] - 1s 1ms/step - loss: 0.0893 - accuracy: 0.9736 - val_loss: 0.0848 - val_accuracy: 0.9740\n",
      "Epoch 7/100\n",
      "469/469 [==============================] - 1s 2ms/step - loss: 0.0786 - accuracy: 0.9761 - val_loss: 0.0799 - val_accuracy: 0.9768\n",
      "Epoch 8/100\n",
      "469/469 [==============================] - 1s 2ms/step - loss: 0.0696 - accuracy: 0.9791 - val_loss: 0.0736 - val_accuracy: 0.9771\n",
      "Epoch 9/100\n",
      "469/469 [==============================] - 1s 2ms/step - loss: 0.0643 - accuracy: 0.9799 - val_loss: 0.0733 - val_accuracy: 0.9777\n",
      "Epoch 10/100\n",
      "469/469 [==============================] - 1s 2ms/step - loss: 0.0583 - accuracy: 0.9821 - val_loss: 0.0688 - val_accuracy: 0.9793\n",
      "Epoch 11/100\n",
      "469/469 [==============================] - 1s 2ms/step - loss: 0.0528 - accuracy: 0.9832 - val_loss: 0.0713 - val_accuracy: 0.9774\n",
      "Epoch 12/100\n",
      "469/469 [==============================] - 1s 2ms/step - loss: 0.0484 - accuracy: 0.9850 - val_loss: 0.0674 - val_accuracy: 0.9803\n",
      "Epoch 13/100\n",
      "469/469 [==============================] - 1s 2ms/step - loss: 0.0447 - accuracy: 0.9855 - val_loss: 0.0674 - val_accuracy: 0.9784\n",
      "Epoch 14/100\n",
      "469/469 [==============================] - 1s 2ms/step - loss: 0.0415 - accuracy: 0.9865 - val_loss: 0.0659 - val_accuracy: 0.9804\n",
      "Epoch 15/100\n",
      "469/469 [==============================] - 1s 2ms/step - loss: 0.0390 - accuracy: 0.9879 - val_loss: 0.0662 - val_accuracy: 0.9808\n",
      "Epoch 16/100\n",
      "469/469 [==============================] - 1s 2ms/step - loss: 0.0368 - accuracy: 0.9881 - val_loss: 0.0652 - val_accuracy: 0.9802\n",
      "Epoch 17/100\n",
      "469/469 [==============================] - 1s 2ms/step - loss: 0.0345 - accuracy: 0.9891 - val_loss: 0.0656 - val_accuracy: 0.9799\n",
      "Epoch 18/100\n",
      "469/469 [==============================] - 1s 1ms/step - loss: 0.0321 - accuracy: 0.9900 - val_loss: 0.0672 - val_accuracy: 0.9800\n",
      "Epoch 19/100\n",
      "469/469 [==============================] - 1s 2ms/step - loss: 0.0308 - accuracy: 0.9903 - val_loss: 0.0682 - val_accuracy: 0.9799\n",
      "Epoch 20/100\n",
      "469/469 [==============================] - 1s 2ms/step - loss: 0.0294 - accuracy: 0.9909 - val_loss: 0.0693 - val_accuracy: 0.9802\n",
      "Epoch 21/100\n",
      "469/469 [==============================] - 1s 2ms/step - loss: 0.0280 - accuracy: 0.9911 - val_loss: 0.0648 - val_accuracy: 0.9823\n",
      "Epoch 22/100\n",
      "469/469 [==============================] - 1s 1ms/step - loss: 0.0263 - accuracy: 0.9912 - val_loss: 0.0653 - val_accuracy: 0.9810\n",
      "Epoch 23/100\n",
      "469/469 [==============================] - 1s 2ms/step - loss: 0.0258 - accuracy: 0.9913 - val_loss: 0.0714 - val_accuracy: 0.9807\n",
      "Epoch 24/100\n",
      "469/469 [==============================] - 1s 2ms/step - loss: 0.0241 - accuracy: 0.9921 - val_loss: 0.0729 - val_accuracy: 0.9802\n",
      "Epoch 25/100\n",
      "469/469 [==============================] - 1s 2ms/step - loss: 0.0232 - accuracy: 0.9923 - val_loss: 0.0732 - val_accuracy: 0.9808\n",
      "Epoch 26/100\n",
      "469/469 [==============================] - 1s 2ms/step - loss: 0.0229 - accuracy: 0.9923 - val_loss: 0.0719 - val_accuracy: 0.9809\n"
     ]
    }
   ],
   "source": [
    "# train the model using the early stopping callback\n",
    "history = model.fit(x_train, y_train, validation_data=(x_test, y_test), epochs=epochs, batch_size=batch_size, callbacks=[monitor_val_lose, modelCheckpoint])"
   ]
  },
  {
   "cell_type": "code",
   "execution_count": 32,
   "metadata": {},
   "outputs": [
    {
     "name": "stdout",
     "output_type": "stream",
     "text": [
      "313/313 - 0s - loss: 0.0719 - accuracy: 0.9809\n"
     ]
    },
    {
     "data": {
      "image/png": "[encoded data removed]",
      "text/plain": [
       "<Figure size 432x288 with 1 Axes>"
      ]
     },
     "metadata": {
      "needs_background": "light"
     },
     "output_type": "display_data"
    },
    {
     "data": {
      "image/png": "[encoded data removed]",
      "text/plain": [
       "<Figure size 432x288 with 1 Axes>"
      ]
     },
     "metadata": {
      "needs_background": "light"
     },
     "output_type": "display_data"
    }
   ],
   "source": [
    "# show history\n",
    "model.evaluate(x_test, y_test, verbose=2)\n",
    "\n",
    "import matplotlib.pyplot as plt\n",
    "\n",
    "fig, loss_ax = plt.subplots()\n",
    "fig, acc_ax = plt.subplots()\n",
    "\n",
    "loss_ax.plot(history.history['loss'], 'ro', label='train loss')\n",
    "loss_ax.plot(history.history['val_loss'], 'r:', label='val loss')\n",
    "loss_ax.set_xlabel('epoch')\n",
    "loss_ax.set_ylabel('loss')\n",
    "loss_ax.legend(loc='upper left')\n",
    "\n",
    "acc_ax.plot(history.history['accuracy'], 'bo', label='train accuracy')\n",
    "acc_ax.plot(history.history['val_accuracy'], 'b:', label='val accuracy')\n",
    "acc_ax.set_ylabel('accuracy')\n",
    "acc_ax.legend(loc='upper left')\n",
    "\n",
    "plt.show()"
   ]
  },
  {
   "cell_type": "code",
   "execution_count": 33,
   "metadata": {},
   "outputs": [
    {
     "name": "stdout",
     "output_type": "stream",
     "text": [
      "[[6.2507632e-10 2.7175522e-11 9.2256034e-09 3.0200659e-05 2.4264231e-14\n",
      "  1.6645669e-09 2.2101399e-17 9.9996984e-01 1.0191808e-08 3.0876699e-08]] 7\n",
      "[0. 0. 0. 0. 0. 0. 0. 1. 0. 0.] 7\n"
     ]
    }
   ],
   "source": [
    "# predict model\n",
    "import numpy as np\n",
    "selected_digit = 0\n",
    "\n",
    "result = model.predict(np.array([x_test[selected_digit]]))\n",
    "result_number = np.argmax(result)\n",
    "y_test_digit = y_test[selected_digit]\n",
    "y_test_number = np.argmax(y_test_digit)\n",
    "print(result, result_number)\n",
    "print(y_test_digit, y_test_number)"
   ]
  },
  {
   "cell_type": "code",
   "execution_count": 35,
   "metadata": {},
   "outputs": [
    {
     "name": "stdout",
     "output_type": "stream",
     "text": [
      "[6.250763e-10, 2.7175522e-11, 9.225603e-09, 3.020066e-05, 2.4264231e-14, 1.6645669e-09, 2.2101399e-17, 0.99996984, 1.0191808e-08, 3.08767e-08]\n"
     ]
    },
    {
     "data": {
      "image/png": "[encoded data removed]",
      "text/plain": [
       "<Figure size 432x288 with 1 Axes>"
      ]
     },
     "metadata": {
      "needs_background": "light"
     },
     "output_type": "display_data"
    }
   ],
   "source": [
    "# show predicted number\n",
    "digits = ('0', '1', '2', '3', '4', '5', '6', '7', '8', '9')\n",
    "y_pos = np.arange(len(digits))\n",
    "performance = [ val for val in result[0]]\n",
    "print(performance)\n",
    "result_probability = performance[result_number]\n",
    "plt.bar(y_pos, performance, align='center', alpha=0.5)\n",
    "plt.xticks(y_pos, digits)\n",
    "plt.ylabel('probability')\n",
    "plt.title('Number is %2i (probability %7.4f)' % (result_number, result_probability*100))\n",
    "\n",
    "plt.show()"
   ]
  },
  {
   "cell_type": "code",
   "execution_count": 37,
   "metadata": {},
   "outputs": [
    {
     "data": {
      "image/png": "[encoded data removed]",
      "text/plain": [
       "<Figure size 432x288 with 1 Axes>"
      ]
     },
     "metadata": {
      "needs_background": "light"
     },
     "output_type": "display_data"
    }
   ],
   "source": [
    "# draw digit image\n",
    "fig = plt.figure()\n",
    "ax = fig.add_subplot(1,1,1)\n",
    "\n",
    "# major ticks every 20, minor ticks every 5\n",
    "major_ticks = np.arange(0,29,5)\n",
    "minor_ticks = np.arange(0,29,1)\n",
    "\n",
    "ax.set_xticks(major_ticks)\n",
    "ax.set_xticks(minor_ticks, minor=True)\n",
    "ax.set_yticks(major_ticks)\n",
    "ax.set_yticks(minor_ticks, minor=True)\n",
    "\n",
    "# and a corresponding grid\n",
    "ax.grid(which='both')\n",
    "\n",
    "# or if you want different settings for the grids:\n",
    "ax.grid(which='minor', alpha=0.2)\n",
    "ax.grid(which='major', alpha=0.5)\n",
    "\n",
    "ax.imshow(x_test[selected_digit], cmap=plt.cm.binary)\n",
    "\n",
    "plt.show()"
   ]
  },
  {
   "cell_type": "code",
   "execution_count": 38,
   "metadata": {},
   "outputs": [
    {
     "name": "stdout",
     "output_type": "stream",
     "text": [
      "[[0.         0.         0.         0.         0.         0.\n",
      "  0.         0.         0.         0.         0.         0.\n",
      "  0.         0.         0.         0.         0.         0.\n",
      "  0.         0.         0.         0.         0.         0.\n",
      "  0.         0.         0.         0.        ]\n",
      " [0.         0.         0.         0.         0.         0.\n",
      "  0.         0.         0.         0.         0.         0.\n",
      "  0.         0.         0.         0.         0.         0.\n",
      "  0.         0.         0.         0.         0.         0.\n",
      "  0.         0.         0.         0.        ]\n",
      " [0.         0.         0.         0.         0.         0.\n",
      "  0.         0.         0.         0.         0.         0.\n",
      "  0.         0.         0.         0.         0.         0.\n",
      "  0.         0.         0.         0.         0.         0.\n",
      "  0.         0.         0.         0.        ]\n",
      " [0.         0.         0.         0.         0.         0.\n",
      "  0.         0.         0.         0.         0.         0.\n",
      "  0.         0.         0.         0.         0.         0.\n",
      "  0.         0.         0.         0.         0.         0.\n",
      "  0.         0.         0.         0.        ]\n",
      " [0.         0.         0.         0.         0.         0.\n",
      "  0.         0.         0.         0.         0.         0.\n",
      "  0.         0.         0.         0.         0.         0.\n",
      "  0.         0.         0.         0.         0.         0.\n",
      "  0.         0.         0.         0.        ]\n",
      " [0.         0.         0.         0.         0.         0.\n",
      "  0.         0.         0.         0.         0.         0.\n",
      "  0.         0.         0.         0.         0.         0.\n",
      "  0.         0.         0.         0.         0.         0.\n",
      "  0.         0.         0.         0.        ]\n",
      " [0.         0.         0.         0.         0.         0.\n",
      "  0.         0.         0.         0.         0.         0.\n",
      "  0.         0.         0.         0.         0.         0.\n",
      "  0.         0.         0.         0.         0.         0.\n",
      "  0.         0.         0.         0.        ]\n",
      " [0.         0.         0.         0.         0.         0.\n",
      "  0.32941176 0.7254902  0.62352941 0.59215686 0.23529412 0.14117647\n",
      "  0.         0.         0.         0.         0.         0.\n",
      "  0.         0.         0.         0.         0.         0.\n",
      "  0.         0.         0.         0.        ]\n",
      " [0.         0.         0.         0.         0.         0.\n",
      "  0.87058824 0.99607843 0.99607843 0.99607843 0.99607843 0.94509804\n",
      "  0.77647059 0.77647059 0.77647059 0.77647059 0.77647059 0.77647059\n",
      "  0.77647059 0.77647059 0.66666667 0.20392157 0.         0.\n",
      "  0.         0.         0.         0.        ]\n",
      " [0.         0.         0.         0.         0.         0.\n",
      "  0.2627451  0.44705882 0.28235294 0.44705882 0.63921569 0.89019608\n",
      "  0.99607843 0.88235294 0.99607843 0.99607843 0.99607843 0.98039216\n",
      "  0.89803922 0.99607843 0.99607843 0.54901961 0.         0.\n",
      "  0.         0.         0.         0.        ]\n",
      " [0.         0.         0.         0.         0.         0.\n",
      "  0.         0.         0.         0.         0.         0.06666667\n",
      "  0.25882353 0.05490196 0.2627451  0.2627451  0.2627451  0.23137255\n",
      "  0.08235294 0.9254902  0.99607843 0.41568627 0.         0.\n",
      "  0.         0.         0.         0.        ]\n",
      " [0.         0.         0.         0.         0.         0.\n",
      "  0.         0.         0.         0.         0.         0.\n",
      "  0.         0.         0.         0.         0.         0.\n",
      "  0.3254902  0.99215686 0.81960784 0.07058824 0.         0.\n",
      "  0.         0.         0.         0.        ]\n",
      " [0.         0.         0.         0.         0.         0.\n",
      "  0.         0.         0.         0.         0.         0.\n",
      "  0.         0.         0.         0.         0.         0.08627451\n",
      "  0.91372549 1.         0.3254902  0.         0.         0.\n",
      "  0.         0.         0.         0.        ]\n",
      " [0.         0.         0.         0.         0.         0.\n",
      "  0.         0.         0.         0.         0.         0.\n",
      "  0.         0.         0.         0.         0.         0.50588235\n",
      "  0.99607843 0.93333333 0.17254902 0.         0.         0.\n",
      "  0.         0.         0.         0.        ]\n",
      " [0.         0.         0.         0.         0.         0.\n",
      "  0.         0.         0.         0.         0.         0.\n",
      "  0.         0.         0.         0.         0.23137255 0.97647059\n",
      "  0.99607843 0.24313725 0.         0.         0.         0.\n",
      "  0.         0.         0.         0.        ]\n",
      " [0.         0.         0.         0.         0.         0.\n",
      "  0.         0.         0.         0.         0.         0.\n",
      "  0.         0.         0.         0.         0.52156863 0.99607843\n",
      "  0.73333333 0.01960784 0.         0.         0.         0.\n",
      "  0.         0.         0.         0.        ]\n",
      " [0.         0.         0.         0.         0.         0.\n",
      "  0.         0.         0.         0.         0.         0.\n",
      "  0.         0.         0.         0.03529412 0.80392157 0.97254902\n",
      "  0.22745098 0.         0.         0.         0.         0.\n",
      "  0.         0.         0.         0.        ]\n",
      " [0.         0.         0.         0.         0.         0.\n",
      "  0.         0.         0.         0.         0.         0.\n",
      "  0.         0.         0.         0.49411765 0.99607843 0.71372549\n",
      "  0.         0.         0.         0.         0.         0.\n",
      "  0.         0.         0.         0.        ]\n",
      " [0.         0.         0.         0.         0.         0.\n",
      "  0.         0.         0.         0.         0.         0.\n",
      "  0.         0.         0.29411765 0.98431373 0.94117647 0.22352941\n",
      "  0.         0.         0.         0.         0.         0.\n",
      "  0.         0.         0.         0.        ]\n",
      " [0.         0.         0.         0.         0.         0.\n",
      "  0.         0.         0.         0.         0.         0.\n",
      "  0.         0.0745098  0.86666667 0.99607843 0.65098039 0.\n",
      "  0.         0.         0.         0.         0.         0.\n",
      "  0.         0.         0.         0.        ]\n",
      " [0.         0.         0.         0.         0.         0.\n",
      "  0.         0.         0.         0.         0.         0.\n",
      "  0.01176471 0.79607843 0.99607843 0.85882353 0.1372549  0.\n",
      "  0.         0.         0.         0.         0.         0.\n",
      "  0.         0.         0.         0.        ]\n",
      " [0.         0.         0.         0.         0.         0.\n",
      "  0.         0.         0.         0.         0.         0.\n",
      "  0.14901961 0.99607843 0.99607843 0.30196078 0.         0.\n",
      "  0.         0.         0.         0.         0.         0.\n",
      "  0.         0.         0.         0.        ]\n",
      " [0.         0.         0.         0.         0.         0.\n",
      "  0.         0.         0.         0.         0.         0.12156863\n",
      "  0.87843137 0.99607843 0.45098039 0.00392157 0.         0.\n",
      "  0.         0.         0.         0.         0.         0.\n",
      "  0.         0.         0.         0.        ]\n",
      " [0.         0.         0.         0.         0.         0.\n",
      "  0.         0.         0.         0.         0.         0.52156863\n",
      "  0.99607843 0.99607843 0.20392157 0.         0.         0.\n",
      "  0.         0.         0.         0.         0.         0.\n",
      "  0.         0.         0.         0.        ]\n",
      " [0.         0.         0.         0.         0.         0.\n",
      "  0.         0.         0.         0.         0.23921569 0.94901961\n",
      "  0.99607843 0.99607843 0.20392157 0.         0.         0.\n",
      "  0.         0.         0.         0.         0.         0.\n",
      "  0.         0.         0.         0.        ]\n",
      " [0.         0.         0.         0.         0.         0.\n",
      "  0.         0.         0.         0.         0.4745098  0.99607843\n",
      "  0.99607843 0.85882353 0.15686275 0.         0.         0.\n",
      "  0.         0.         0.         0.         0.         0.\n",
      "  0.         0.         0.         0.        ]\n",
      " [0.         0.         0.         0.         0.         0.\n",
      "  0.         0.         0.         0.         0.4745098  0.99607843\n",
      "  0.81176471 0.07058824 0.         0.         0.         0.\n",
      "  0.         0.         0.         0.         0.         0.\n",
      "  0.         0.         0.         0.        ]\n",
      " [0.         0.         0.         0.         0.         0.\n",
      "  0.         0.         0.         0.         0.         0.\n",
      "  0.         0.         0.         0.         0.         0.\n",
      "  0.         0.         0.         0.         0.         0.\n",
      "  0.         0.         0.         0.        ]]\n"
     ]
    }
   ],
   "source": [
    "print(x_test[selected_digit])"
   ]
  },
  {
   "cell_type": "code",
   "execution_count": null,
   "metadata": {},
   "outputs": [],
   "source": []
  }
 ],
 "metadata": {
  "kernelspec": {
   "display_name": "Python 3",
   "language": "python",
   "name": "python3"
  },
  "language_info": {
   "codemirror_mode": {
    "name": "ipython",
    "version": 3
   },
   "file_extension": ".py",
   "mimetype": "text/x-python",
   "name": "python",
   "nbconvert_exporter": "python",
   "pygments_lexer": "ipython3",
   "version": "3.7.6"
  }
 },
 "nbformat": 4,
 "nbformat_minor": 4
}
